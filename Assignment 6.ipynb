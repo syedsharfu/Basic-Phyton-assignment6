{
 "cells": [
  {
   "cell_type": "raw",
   "id": "56a513fd-fb63-429e-83cd-7af654e3baf9",
   "metadata": {},
   "source": [
    "1. What are keywords in python? Using the keyword library, print all the python keywords."
   ]
  },
  {
   "cell_type": "raw",
   "id": "7a09fa6d-5986-4f9f-8253-c2ac5f4ebafd",
   "metadata": {},
   "source": [
    "In Python, keywords are reserved words that have special meanings and cannot be used as identifiers. These keywords define the language's syntax and structure. We can use the keyword module to access and print all the Python keywords."
   ]
  },
  {
   "cell_type": "code",
   "execution_count": 1,
   "id": "5a31f28d-d8fa-4250-a5be-4d5fb3cc1d41",
   "metadata": {},
   "outputs": [
    {
     "name": "stdout",
     "output_type": "stream",
     "text": [
      "Python Keywords:\n",
      "-----------------\n",
      "False\n",
      "None\n",
      "True\n",
      "and\n",
      "as\n",
      "assert\n",
      "async\n",
      "await\n",
      "break\n",
      "class\n",
      "continue\n",
      "def\n",
      "del\n",
      "elif\n",
      "else\n",
      "except\n",
      "finally\n",
      "for\n",
      "from\n",
      "global\n",
      "if\n",
      "import\n",
      "in\n",
      "is\n",
      "lambda\n",
      "nonlocal\n",
      "not\n",
      "or\n",
      "pass\n",
      "raise\n",
      "return\n",
      "try\n",
      "while\n",
      "with\n",
      "yield\n"
     ]
    }
   ],
   "source": [
    "import keyword\n",
    "all_keywords = keyword.kwlist\n",
    "print(\"Python Keywords:\")\n",
    "print(\"-----------------\")\n",
    "for kw in all_keywords:\n",
    "    print(kw)\n"
   ]
  },
  {
   "cell_type": "raw",
   "id": "7ba0c552-c69e-4794-93b4-6244676c0cb4",
   "metadata": {},
   "source": [
    "2. What are the rules to create variables in python?"
   ]
  },
  {
   "cell_type": "raw",
   "id": "1f3ae964-fbce-43ea-9a5a-2a1a57d1086b",
   "metadata": {},
   "source": [
    "In Python, variables are used to store and manage data. Here are the rules for creating variables in Python:\n",
    "Variable Names: Variable names contains letters (a-z, A-Z), numbers (0-9), and underscores (_). They cannot start with a number.\n",
    "Case Sensitivity: Python is case-sensitive. myVar and myvar are different variables.\n",
    "Reserved Keywords: You cannot use Python reserved keywords as variable names. For example, if, else, while, for, class, def, etc.\n",
    "No Spaces: Variable names cannot contain spaces. Use underscores or capitalize words to improve readability.\n",
    "Convention: Follow Python naming conventions for better code readability:\n",
    "Use lowercase for variable names (e.g., my_variable).\n",
    "Use underscores to separate words in variable names (snake_case).\n",
    "Use uppercase for constants (e.g., MY_CONSTANT).\n",
    "Use CamelCase for class names (e.g., MyClass).\n",
    "Avoid Built-in Names:nAvoid using names of built-in functions or modules as variable names. This can lead to unexpected behavior.\n",
    "Meaningful Names: Choose meaningful and descriptive variable names to enhance code readability."
   ]
  },
  {
   "cell_type": "raw",
   "id": "e7aebb17-442c-480a-aabe-f9f7bc13aa54",
   "metadata": {},
   "source": [
    "3. What are the standards and conventions followed for the nomenclature of variables in python to improve code readability and maintainability?"
   ]
  },
  {
   "cell_type": "raw",
   "id": "ea33bc89-7528-43e6-b5a5-9742c9d4c7c9",
   "metadata": {},
   "source": [
    "In Python, adhering to naming standards and conventions is essential for writing clean, readable, and maintainable code. some widely accepted conventions for variable naming are: Snake Case for Variables: Use lowercase letters with underscores to separate words in variable names.\n",
    "Example: my_variable, total_amount, user_name\n",
    "Camel Case for Class Names: Use CamelCase (capitalize the first letter of each word without spaces) for class names.\n",
    "Example: MyClass, PersonDetails\n",
    "UPPERCASE for Constants: Use uppercase letters with underscores to represent constants.\n",
    "Example: MAX_VALUE, PI_VALUE\n",
    "Descriptive and Meaningful Names: Choose variable names that are descriptive and convey the purpose of the variable.\n",
    "Avoid single-character names unless used in specific contexts like loop counters.\n",
    "Avoid Single Leading Underscore: A single leading underscore (_) is often used to indicate a \"weak internal use\" variable, but it's more of a convention and doesn't impact the variable's behavior.\n",
    "Avoid Single Trailing Underscore: A single trailing underscore is used to avoid conflicts with Python keywords.\n",
    "Use Plural for Collections: When naming variables that represent collections (lists, sets, dictionaries, etc.), use plural forms.\n",
    "Example: users, items, colors\n",
    "Avoid Overusing Abbreviations: While abbreviations can save characters, avoid overusing them, especially if it hinders readability.\n",
    "For example, use max_value instead of max_val."
   ]
  },
  {
   "cell_type": "raw",
   "id": "4ca8a139-2686-4f35-b592-8841555c65e9",
   "metadata": {},
   "source": [
    "4. What will happen if a keyword is used as a variable name?"
   ]
  },
  {
   "cell_type": "raw",
   "id": "517a0f34-10b4-4464-b104-007db792dc20",
   "metadata": {},
   "source": [
    "If we use a keyword as a variable name in Python, it will result in a syntax error. Keywords are reserved words in the Python language that have special meanings and cannot be used as identifiers."
   ]
  },
  {
   "cell_type": "code",
   "execution_count": 2,
   "id": "090241f9-4b37-4da4-8b97-181fb0dc3fae",
   "metadata": {},
   "outputs": [
    {
     "ename": "SyntaxError",
     "evalue": "invalid syntax (4293453671.py, line 1)",
     "output_type": "error",
     "traceback": [
      "\u001b[0;36m  Cell \u001b[0;32mIn [2], line 1\u001b[0;36m\u001b[0m\n\u001b[0;31m    if = 5  # Attempting to use the keyword 'if' as a variable name\u001b[0m\n\u001b[0m       ^\u001b[0m\n\u001b[0;31mSyntaxError\u001b[0m\u001b[0;31m:\u001b[0m invalid syntax\n"
     ]
    }
   ],
   "source": [
    "if = 5  # Attempting to use the keyword 'if' as a variable name"
   ]
  },
  {
   "cell_type": "raw",
   "id": "25167515-b33b-402a-ad5c-984437b32414",
   "metadata": {},
   "source": [
    "5. For what purpose def keyword is used?"
   ]
  },
  {
   "cell_type": "raw",
   "id": "0010f301-1f58-435e-a760-6add943b9d0a",
   "metadata": {},
   "source": [
    "The def keyword in Python is used to define functions. Functions are blocks of reusable code that perform a specific task. By using the def keyword, you can create a function and give it a name. This allows you to organize your code into modular, self-contained units, making it more readable, maintainable, and reusable."
   ]
  },
  {
   "cell_type": "raw",
   "id": "561abadd-92fa-442f-8e5a-25d2735f073a",
   "metadata": {},
   "source": [
    "6. What is the operation of this special character ‘\\’?"
   ]
  },
  {
   "cell_type": "raw",
   "id": "d3638d83-207e-42cf-b16c-a3cc8f3137ba",
   "metadata": {},
   "source": [
    "The backslash character (\\) in Python is used as an escape character. It indicates that the character following it has a special meaning. "
   ]
  },
  {
   "cell_type": "raw",
   "id": "113746ea-fbad-4f90-8f07-10c659abba12",
   "metadata": {},
   "source": [
    "7. Give an example of the following conditions:\n",
    "(i) Homogeneous list\n",
    "(ii) Heterogeneous set\n",
    "(iii) Homogeneous tuple"
   ]
  },
  {
   "cell_type": "raw",
   "id": "282aa445-cdfc-4dd2-a2d7-464c266938e4",
   "metadata": {},
   "source": [
    "Homogeneous List: A homogeneous list contains elements of the same data type. Here's an example of a homogeneous list of integers:\n",
    "homogeneous_list = [1, 2, 3, 4, 5]\n",
    "Heterogeneous Set: A heterogeneous set contains elements of different data types. Here's an example of a heterogeneous set:\n",
    "heterogeneous_set = {1, 'apple', 3.14, True}\n",
    "Homogeneous Tuple: A homogeneous tuple contains elements of the same data type. Here's an example of a homogeneous tuple of strings:\n",
    "homogeneous_tuple = ('apple', 'banana', 'orange')"
   ]
  },
  {
   "cell_type": "raw",
   "id": "8fbcb49f-7cbc-4172-a412-166b1ef17b15",
   "metadata": {},
   "source": [
    "8.  Explain the mutable and immutable data types with proper explanation & examples"
   ]
  },
  {
   "cell_type": "raw",
   "id": "e342a78c-da8e-4502-8a45-f73ea246a999",
   "metadata": {},
   "source": [
    "In Python, data types are categorized as either mutable or immutable. The distinction is based on whether the value of an object can be changed after it is created.\n",
    "Mutable Data Types:Mutable objects can be modified or changed after creation.\n",
    "Lists, dictionaries, and sets are examples of mutable data types.\n",
    "When you modify a mutable object (e.g., a list), you are changing the object in place. The object's identity remains the same, but its content can be altered.\n",
    "Mutable objects are generally more flexible in terms of modification but may lead to unintended changes if not used carefully.\n",
    "\n",
    "Immutable Data Types: Immutable objects cannot be modified after they are created.\n",
    "Examples of immutable data types include integers, floats, strings, tuples, and frozensets.\n",
    "Immutable objects, once created, cannot be changed. If you want to modify an immutable object, you need to create a new object.\n",
    "Immutable objects provide safety against unintended modifications but may involve more object creation."
   ]
  },
  {
   "cell_type": "code",
   "execution_count": 3,
   "id": "74105043-ad18-48e1-800f-95f10908deb9",
   "metadata": {},
   "outputs": [
    {
     "name": "stdout",
     "output_type": "stream",
     "text": [
      "[99, 2, 3]\n"
     ]
    }
   ],
   "source": [
    "#Example of a mutable list:\n",
    "mutable_list = [1, 2, 3]\n",
    "mutable_list[0] = 99  # Modifying the first element\n",
    "print(mutable_list)   # Outputs: [99, 2, 3]"
   ]
  },
  {
   "cell_type": "code",
   "execution_count": 5,
   "id": "21fcf3bc-adc6-4f12-b1d8-54d1488527f1",
   "metadata": {},
   "outputs": [
    {
     "ename": "TypeError",
     "evalue": "'tuple' object does not support item assignment",
     "output_type": "error",
     "traceback": [
      "\u001b[0;31m---------------------------------------------------------------------------\u001b[0m",
      "\u001b[0;31mTypeError\u001b[0m                                 Traceback (most recent call last)",
      "Cell \u001b[0;32mIn [5], line 4\u001b[0m\n\u001b[1;32m      2\u001b[0m immutable_tuple \u001b[38;5;241m=\u001b[39m (\u001b[38;5;241m1\u001b[39m, \u001b[38;5;241m2\u001b[39m, \u001b[38;5;241m3\u001b[39m)\n\u001b[1;32m      3\u001b[0m \u001b[38;5;66;03m# Attempting to modify a tuple will result in an error:\u001b[39;00m\n\u001b[0;32m----> 4\u001b[0m \u001b[43mimmutable_tuple\u001b[49m\u001b[43m[\u001b[49m\u001b[38;5;241;43m0\u001b[39;49m\u001b[43m]\u001b[49m \u001b[38;5;241m=\u001b[39m \u001b[38;5;241m99\u001b[39m\n",
      "\u001b[0;31mTypeError\u001b[0m: 'tuple' object does not support item assignment"
     ]
    }
   ],
   "source": [
    "# Example of an immutable tuple:\n",
    "immutable_tuple = (1, 2, 3)\n",
    "# Attempting to modify a tuple will result in an error:\n",
    "immutable_tuple[0] = 99  # Raises a TypeError"
   ]
  },
  {
   "cell_type": "raw",
   "id": "77a5b137-0a8f-44c5-957b-4aee5ecc8cf4",
   "metadata": {},
   "source": [
    "9. Write a code to create the given structure using only for loop.\n",
    "*\n",
    "**\n",
    "***\n",
    "****\n",
    "*****"
   ]
  },
  {
   "cell_type": "code",
   "execution_count": 35,
   "id": "58a10958-2d95-433d-a637-550eb38411b5",
   "metadata": {},
   "outputs": [
    {
     "name": "stdout",
     "output_type": "stream",
     "text": [
      "*\n",
      "**\n",
      "***\n",
      "****\n",
      "*****\n"
     ]
    }
   ],
   "source": [
    "rows = 5\n",
    "for i in range(1, rows + 1):\n",
    "    for j in range(1, i + 1):\n",
    "        print('*', end='')\n",
    "    print()"
   ]
  },
  {
   "cell_type": "raw",
   "id": "2122d1d4-d1e6-4ace-9346-366afb6dcfc9",
   "metadata": {},
   "source": [
    "Write a code to create the given structure using while loop.\n",
    "|||||\n",
    "||||\n",
    "|||\n",
    "||\n",
    "|"
   ]
  },
  {
   "cell_type": "code",
   "execution_count": 40,
   "id": "b6327748-e0ee-48a2-9fb9-ec3558d9ff90",
   "metadata": {},
   "outputs": [
    {
     "name": "stdout",
     "output_type": "stream",
     "text": [
      "|||||\n",
      "||||\n",
      "|||\n",
      "||\n",
      "|\n"
     ]
    }
   ],
   "source": [
    "rows = 5\n",
    "i = 1\n",
    "\n",
    "while i <= rows:\n",
    "    j = 1\n",
    "    while j <= (rows - i + 1):\n",
    "        print('|', end='')\n",
    "        j += 1\n",
    "    print()\n",
    "    i += 1\n"
   ]
  }
 ],
 "metadata": {
  "kernelspec": {
   "display_name": "Python 3 (ipykernel)",
   "language": "python",
   "name": "python3"
  },
  "language_info": {
   "codemirror_mode": {
    "name": "ipython",
    "version": 3
   },
   "file_extension": ".py",
   "mimetype": "text/x-python",
   "name": "python",
   "nbconvert_exporter": "python",
   "pygments_lexer": "ipython3",
   "version": "3.10.6"
  }
 },
 "nbformat": 4,
 "nbformat_minor": 5
}
